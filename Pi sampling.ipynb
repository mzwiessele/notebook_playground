{
 "cells": [
  {
   "cell_type": "markdown",
   "metadata": {},
   "source": [
    "Show some ways of getting $\\pi$\n",
    "===="
   ]
  },
  {
   "cell_type": "code",
   "execution_count": 1,
   "metadata": {
    "collapsed": false
   },
   "outputs": [],
   "source": [
    "import numpy as np\n",
    "%matplotlib inline\n",
    "from matplotlib import pyplot as plt, cm\n",
    "import seaborn as sns"
   ]
  },
  {
   "cell_type": "markdown",
   "metadata": {},
   "source": [
    "Sampling\n",
    "------\n",
    "\n",
    "Sample from a circle. The ratio between the number of uniform samples falling in a square with sidelength 2 and the samples which fall into the circle enclosed by this square can be used to calculate $\\pi$. Down below the ratio between uniformly distributed random samples falling into the red area and samples falling into the purple area are $\\tfrac\\pi4$."
   ]
  },
  {
   "cell_type": "code",
   "execution_count": 2,
   "metadata": {
    "collapsed": false
   },
   "outputs": [
    {
     "data": {
      "image/png": "[encoded data removed]",
      "text/plain": [
       "<matplotlib.figure.Figure at 0x3a9dc90>"
      ]
     },
     "metadata": {},
     "output_type": "display_data"
    }
   ],
   "source": [
    "fig, ax = plt.subplots(figsize=(4,4))\n",
    "\n",
    "colors = sns.color_palette()\n",
    "b = colors[0]\n",
    "r = colors[2]\n",
    "\n",
    "ax.add_patch(plt.Rectangle((-1,-1), 2, 2, fill=True, facecolor=r, edgecolor='none', lw=2, alpha=1))\n",
    "ax.add_patch(plt.Circle((0,0), 1, fill=True, facecolor=b, edgecolor='none', alpha=1))\n",
    "ax.set_xlim(-1,1)\n",
    "ax.set_ylim(-1,1)\n",
    "\n",
    "None"
   ]
  },
  {
   "cell_type": "code",
   "execution_count": 3,
   "metadata": {
    "collapsed": false
   },
   "outputs": [
    {
     "name": "stderr",
     "output_type": "stream",
     "text": [
      ":0: FutureWarning: IPython widgets are experimental and may change in the future.\n"
     ]
    }
   ],
   "source": [
    "# Prepare animation:\n",
    "from IPython.display import display, clear_output, display_png\n",
    "from IPython.core.pylabtools import print_figure\n",
    "from IPython.html.widgets import Latex, Image, HBox, FlexBox\n",
    "import time\n",
    "\n",
    "fig, ax1 = plt.subplots(1, 1, figsize=(4, 4))\n",
    "\n",
    "_ = ax1.xaxis.set_visible(False)\n",
    "_ = ax1.yaxis.set_visible(False)\n",
    "#_ = ax1.set_xlim((-1,1))\n",
    "#_ = ax1.set_ylim((-1,1))\n",
    "\n",
    "# Reset plots\n",
    "#sc_in, = ax1.plot([], [], ls='', ms=3, marker='.', color=b)\n",
    "#sc_out, = ax1.plot([], [], ls='', ms=3, marker='.', color=r)\n",
    "res = 500\n",
    "image = np.ones((res**2))*0.\n",
    "colormap = cm.colors.ListedColormap([[1,1,1,0], b, r])\n",
    "\n",
    "imshow = ax1.imshow(image.reshape(res,res).astype(int), \n",
    "                    cmap=colormap, interpolation='nearest', aspect='auto', vmin=0, vmax=2)\n",
    "\n",
    "title = ax1.set_title('', fontsize=20)\n",
    "\n",
    "# Reset the counters:\n",
    "nums = np.array([0., 0.])\n",
    "\n",
    "# Make image show\n",
    "im = Image(value=print_figure(fig))\n",
    "\n",
    "# Weirly it shows the fig always, although never called for...\n",
    "plt.close(fig)"
   ]
  },
  {
   "cell_type": "code",
   "execution_count": 4,
   "metadata": {
    "collapsed": false
   },
   "outputs": [],
   "source": [
    "# Make animation function:\n",
    "def animate(i):\n",
    "    samples = np.random.uniform(-1, 1, (1e4, 2))\n",
    "    w = np.sqrt(np.einsum('ij,ij->i', samples, samples)) <= 1\n",
    "    nums[0] += w.sum()\n",
    "    nums[1] += w.size\n",
    "    sc_in = (res*(samples[w]+1)/2.).astype(int)\n",
    "    sc_out = (res*(samples[~w]+1)/2.).astype(int)\n",
    "\n",
    "    #image[sc_in]\n",
    "    #return sc_in, sc_out\n",
    "    image[sc_in[:,0]*500 + sc_in[:,1]] = 1\n",
    "    image[sc_out[:,0]*500 + sc_out[:,1]] = 2\n",
    "\n",
    "    imshow.set_data(image.reshape(res,res))\n",
    "    #imshow.set_data(image.reshape(res,res))"
   ]
  },
  {
   "cell_type": "code",
   "execution_count": 5,
   "metadata": {
    "collapsed": false
   },
   "outputs": [],
   "source": [
    "display(im)\n",
    "\n",
    "for i in range(200):\n",
    "    animate(i)\n",
    "    #l.value = r'{:.5f}'.format(4.*nums[0]/nums[1])\n",
    "    title.set_text('$\\pi\\sim{}$'.format(4.*nums[0]/nums[1]))\n",
    "    #im.value = print_figure(fig)\n",
    "    #display(im)\n",
    "    im.value = print_figure(fig)\n",
    "    time.sleep(.5)"
   ]
  },
  {
   "cell_type": "code",
   "execution_count": 6,
   "metadata": {
    "collapsed": false
   },
   "outputs": [
    {
     "data": {
      "text/plain": [
       "3.141592653589793"
      ]
     },
     "execution_count": 6,
     "metadata": {},
     "output_type": "execute_result"
    }
   ],
   "source": [
    "np.pi"
   ]
  },
  {
   "cell_type": "code",
   "execution_count": null,
   "metadata": {
    "collapsed": true
   },
   "outputs": [],
   "source": []
  }
 ],
 "metadata": {
  "kernelspec": {
   "display_name": "Python 2",
   "language": "python",
   "name": "python2"
  },
  "language_info": {
   "codemirror_mode": {
    "name": "ipython",
    "version": 2
   },
   "file_extension": ".py",
   "mimetype": "text/x-python",
   "name": "python",
   "nbconvert_exporter": "python",
   "pygments_lexer": "ipython2",
   "version": "2.7.6"
  }
 },
 "nbformat": 4,
 "nbformat_minor": 0
}
