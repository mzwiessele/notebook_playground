{
 "cells": [
  {
   "cell_type": "markdown",
   "metadata": {},
   "source": [
    "Show some ways of getting $\\pi$\n",
    "===="
   ]
  },
  {
   "cell_type": "code",
   "execution_count": 1,
   "metadata": {
    "collapsed": false
   },
   "outputs": [],
   "source": [
    "import numpy as np\n",
    "%matplotlib inline\n",
    "from matplotlib import pyplot as plt, cm\n",
    "import seaborn as sns"
   ]
  },
  {
   "cell_type": "markdown",
   "metadata": {},
   "source": [
    "Sampling\n",
    "------\n",
    "\n",
    "Sample from a circle. The ratio between the number of uniform samples falling in a square with sidelength 2 and the samples which fall into the circle enclosed by this square can be used to calculate $\\pi$. Down below the ratio between uniformly distributed random samples falling into the red area and samples falling into the purple area are $\\tfrac\\pi4$."
   ]
  },
  {
   "cell_type": "code",
   "execution_count": 2,
   "metadata": {
    "collapsed": false
   },
   "outputs": [
    {
     "data": {
      "image/png": "[encoded data removed]",
      "text/plain": [
       "<matplotlib.figure.Figure at 0x7fba84fe4190>"
      ]
     },
     "metadata": {},
     "output_type": "display_data"
    }
   ],
   "source": [
    "fig, ax = plt.subplots(figsize=(4,4))\n",
    "\n",
    "colors = sns.color_palette()\n",
    "b = colors[0]\n",
    "r = colors[2]\n",
    "\n",
    "ax.add_patch(plt.Rectangle((-1,-1), 2, 2, fill=True, facecolor=r, edgecolor='none', lw=2, alpha=1))\n",
    "ax.add_patch(plt.Circle((0,0), 1, fill=True, facecolor=b, edgecolor='none', alpha=1))\n",
    "ax.set_xlim(-1,1)\n",
    "ax.set_ylim(-1,1)\n",
    "\n",
    "None"
   ]
  },
  {
   "cell_type": "code",
   "execution_count": 3,
   "metadata": {
    "collapsed": false
   },
   "outputs": [
    {
     "name": "stderr",
     "output_type": "stream",
     "text": [
      ":0: FutureWarning: IPython widgets are experimental and may change in the future.\n"
     ]
    }
   ],
   "source": [
    "# Prepare animation:\n",
    "from IPython.display import display, clear_output, display_png\n",
    "from IPython.core.pylabtools import print_figure\n",
    "from IPython.html.widgets import Latex, Image, HBox, FlexBox\n",
    "import time\n",
    "\n",
    "def prepare_matplotlib(res=500):\n",
    "    fig, ax1 = plt.subplots(1, 1, figsize=(4, 4))\n",
    "\n",
    "    _ = ax1.xaxis.set_visible(False)\n",
    "    _ = ax1.yaxis.set_visible(False)\n",
    "    #_ = ax1.set_xlim((-1,1))\n",
    "    #_ = ax1.set_ylim((-1,1))\n",
    "\n",
    "    # Reset plots\n",
    "    #sc_in, = ax1.plot([], [], ls='', ms=3, marker='.', color=b)\n",
    "    #sc_out, = ax1.plot([], [], ls='', ms=3, marker='.', color=r)\n",
    "    image = np.ones((res**2))*0.\n",
    "    colormap = cm.colors.ListedColormap([[1,1,1,0], b, r])\n",
    "\n",
    "    imshow = ax1.imshow(image.reshape(res,res).astype(int), \n",
    "                        cmap=colormap, interpolation='nearest', aspect='auto', vmin=0, vmax=2)\n",
    "\n",
    "    title = ax1.set_title('', fontsize=20)\n",
    "\n",
    "    # Make image show\n",
    "    im = Image(value=print_figure(fig))\n",
    "\n",
    "    # Weirly it shows the fig always, although never called for...\n",
    "    plt.close(fig)\n",
    "    return fig, title, im, image, imshow"
   ]
  },
  {
   "cell_type": "code",
   "execution_count": 20,
   "metadata": {
    "collapsed": false
   },
   "outputs": [],
   "source": [
    "def next_sample(nums, num_samples=1e4):\n",
    "    samples = np.random.uniform(-1, 1, (1e4, 2))\n",
    "    w = np.sqrt(np.einsum('ij,ij->i', samples, samples)) < 1\n",
    "    nums[0] += w.sum()\n",
    "    nums[1] += w.size\n",
    "    return samples, w\n",
    "\n",
    "# Make animation function:\n",
    "def animate_image(samples, w, res, image):\n",
    "    sc_in = (res*(samples[w]+1)/2.).astype(int)\n",
    "    sc_out = (res*(samples[~w]+1)/2.).astype(int)\n",
    "\n",
    "    #image[sc_in]\n",
    "    #return sc_in, sc_out\n",
    "    image[sc_in[:,0]*res + sc_in[:,1]] = 1\n",
    "    image[sc_out[:,0]*res + sc_out[:,1]] = 2\n",
    "    #imshow.set_data(image.reshape(res,res))"
   ]
  },
  {
   "cell_type": "code",
   "execution_count": null,
   "metadata": {
    "collapsed": false,
    "scrolled": true
   },
   "outputs": [],
   "source": [
    "plt.close('all')\n",
    "fig, title, im, image, imshow = prepare_matplotlib(res)\n",
    "\n",
    "# Reset the counters:\n",
    "res = 500\n",
    "iter_samples=1e4\n",
    "nums = np.array([0., 0.])\n",
    "display(im)\n",
    "\n",
    "try:\n",
    "    for i in range(200):\n",
    "        samples, w = next_sample(nums, iter_samples)\n",
    "        animate_image(samples, w, res, image)\n",
    "        imshow.set_data(image.reshape(res,res))\n",
    "        #l.value = r'{:.5f}'.format(4.*nums[0]/nums[1])\n",
    "        title.set_text('$\\pi\\sim{}$'.format(4.*nums[0]/nums[1]))\n",
    "        #im.value = print_figure(fig)\n",
    "        #display(im)\n",
    "        im.value = print_figure(fig)\n",
    "        time.sleep(.5)\n",
    "except KeyboardInterrupt:\n",
    "    pass\n",
    "finally:\n",
    "    print 'After {:g} samples pi estimate = {:.6g}'.format((i+1)*iter_samples, 4.*nums[0]/nums[1])"
   ]
  },
  {
   "cell_type": "code",
   "execution_count": null,
   "metadata": {
    "collapsed": false
   },
   "outputs": [],
   "source": [
    "np.pi"
   ]
  },
  {
   "cell_type": "markdown",
   "metadata": {
    "collapsed": true
   },
   "source": [
    "## Using Plotly"
   ]
  },
  {
   "cell_type": "code",
   "execution_count": 15,
   "metadata": {
    "collapsed": true
   },
   "outputs": [],
   "source": [
    "from plotly import tools\n",
    "from plotly import plotly as py\n",
    "from plotly.graph_objs import Scatter, Line,\\\n",
    "    Marker, Font, Scattergl, Annotation, Annotations"
   ]
  },
  {
   "cell_type": "code",
   "execution_count": 16,
   "metadata": {
    "collapsed": false
   },
   "outputs": [
    {
     "name": "stdout",
     "output_type": "stream",
     "text": [
      "This is the format of your plot grid:\n",
      "[ (1,1) x1,y1 ]\n",
      "\n",
      "[u'308aiiyi99', u'u1yu5l7cei', u's0y5bygwr6', u'y4metlq4nq', u'z49sg3rdh7', u'ojl0uqq0kv', u'w9vua8bwxp', u'ygzeuyqj9b', u'g2w9g2erkb', u'3ioa2qa0zb', u'qea1ghffsz']\n"
     ]
    }
   ],
   "source": [
    "figure = tools.make_subplots(1, 1)\n",
    "stream_ids = tools.get_credentials_file()['stream_ids']\n",
    "print stream_ids"
   ]
  },
  {
   "cell_type": "code",
   "execution_count": 17,
   "metadata": {
    "collapsed": false,
    "scrolled": false
   },
   "outputs": [
    {
     "data": {
      "text/plain": [
       "u'https://plot.ly/~maxz/620'"
      ]
     },
     "execution_count": 17,
     "metadata": {},
     "output_type": "execute_result"
    }
   ],
   "source": [
    "pi_inner = Scatter(\n",
    "    x=[],\n",
    "    y=[],\n",
    "    stream=dict(\n",
    "        token=stream_ids[0],\n",
    "        maxpoints=1e6,\n",
    "    ),\n",
    "    mode='markers',\n",
    "    marker=Marker(\n",
    "        #color='rgb({},{},{})'.format(*np.multiply(b,255).astype(int)),\n",
    "        symbol='square',\n",
    "        size=4,\n",
    "    )\n",
    ")\n",
    "pi_square = Scatter(\n",
    "    x=[],\n",
    "    y=[],\n",
    "    stream=dict(\n",
    "        token=stream_ids[1],\n",
    "        maxpoints=1e6,\n",
    "    ),\n",
    "    mode='markers',\n",
    "    marker=Marker(\n",
    "        #color='rgb({},{},{})'.format(*np.multiply(r,255).astype(int)),\n",
    "        symbol='square',\n",
    "        size=4,\n",
    "    )\n",
    ")\n",
    "\n",
    "pi_estimate = Scatter(\n",
    "    x=[],\n",
    "    y=[],\n",
    "    stream=dict(\n",
    "        token=stream_ids[2],\n",
    "        maxpoints=400,\n",
    "    ),\n",
    "    mode='lines+markers',\n",
    "    marker=Marker(\n",
    "        #color=r,\n",
    "        symbol='square', \n",
    "        size=3,\n",
    "        line=Line(\n",
    "            width=.5,\n",
    "            color='white'\n",
    "        ),\n",
    "    ),\n",
    "    line=Line(width=.1),    \n",
    ")\n",
    "\n",
    "\n",
    "\n",
    "#figure.append_trace(pi_inner, 1, 1)\n",
    "#figure.append_trace(pi_square, 1, 1)\n",
    "figure.append_trace(pi_estimate, 1, 1)\n",
    "\n",
    "figure.layout.shapes = [\n",
    "        # Line Horizontal\n",
    "        {\n",
    "            'type': 'line',\n",
    "            'x0': 0,\n",
    "            'y0': np.pi,\n",
    "            'x1': 1,\n",
    "            'y1': np.pi,\n",
    "            'yref': 'y1',\n",
    "            'xref':'paper',\n",
    "            'line': {\n",
    "                'color': 'rgb(255, 20, 96)',\n",
    "                'width': 1.5,\n",
    "                'dash': 'dash',\n",
    "            },\n",
    "        },]\n",
    "\n",
    "py.plot(figure, filename='pi_markerssampling')"
   ]
  },
  {
   "cell_type": "code",
   "execution_count": 18,
   "metadata": {
    "collapsed": true
   },
   "outputs": [],
   "source": [
    "# reset the plot:\n",
    "res = 500\n",
    "iter_samples=1e4\n",
    "nums = np.array([0., 0.])\n",
    "i = 0"
   ]
  },
  {
   "cell_type": "code",
   "execution_count": 23,
   "metadata": {
    "collapsed": false
   },
   "outputs": [
    {
     "name": "stdout",
     "output_type": "stream",
     "text": [
      "After 6.01e+06 samples pi estimate = 3.1414\n"
     ]
    }
   ],
   "source": [
    "try:\n",
    "    streams = [py.Stream(token) for token in stream_ids[:3]]\n",
    "    #for s in streams:\n",
    "    #    s.open()\n",
    "    streams[2].open()\n",
    "    count = 0\n",
    "    while count<200:\n",
    "        samples, w = next_sample(nums, iter_samples)\n",
    "        inner = samples[w]\n",
    "        outer = samples[~w]\n",
    "        #streams[0].write(dict(x=inner[:,0], y=inner[:,1]))\n",
    "        #streams[1].write(dict(x=outer[:,0], y=outer[:,1]))\n",
    "        streams[2].write(dict(x=(i+1)*iter_samples, y=4.*nums[0]/nums[1]))\n",
    "        i += 1\n",
    "        count += 1\n",
    "        time.sleep(.5)\n",
    "except KeyboardInterrupt:\n",
    "    pass\n",
    "finally:\n",
    "    streams[2].close()\n",
    "    #for s in streams:\n",
    "    #    s.close()\n",
    "    print 'After {:g} samples pi estimate = {:.6g}'.format((i+1)*iter_samples, 4.*nums[0]/nums[1])"
   ]
  },
  {
   "cell_type": "code",
   "execution_count": null,
   "metadata": {
    "collapsed": true
   },
   "outputs": [],
   "source": []
  }
 ],
 "metadata": {
  "kernelspec": {
   "display_name": "Python 2",
   "language": "python",
   "name": "python2"
  },
  "language_info": {
   "codemirror_mode": {
    "name": "ipython",
    "version": 2
   },
   "file_extension": ".py",
   "mimetype": "text/x-python",
   "name": "python",
   "nbconvert_exporter": "python",
   "pygments_lexer": "ipython2",
   "version": "2.7.10"
  }
 },
 "nbformat": 4,
 "nbformat_minor": 0
}
