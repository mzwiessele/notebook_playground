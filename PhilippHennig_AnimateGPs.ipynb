{
 "cells": [
  {
   "cell_type": "markdown",
   "metadata": {},
   "source": [
    "Sampling from GPs\n",
    "================="
   ]
  },
  {
   "cell_type": "code",
   "execution_count": 1,
   "metadata": {
    "collapsed": false
   },
   "outputs": [
    {
     "name": "stdout",
     "output_type": "stream",
     "text": [
      "Using matplotlib backend: Qt4Agg\n"
     ]
    }
   ],
   "source": [
    "import numpy as np, scipy\n",
    "%matplotlib\n",
    "from matplotlib import pyplot as plt\n",
    "from matplotlib import animation\n",
    "import itertools\n",
    "import GPy\n",
    "\n",
    "from matplotlib import rc\n",
    "from matplotlib import cm\n",
    "rc('text', usetex=True)"
   ]
  },
  {
   "cell_type": "markdown",
   "metadata": {},
   "source": [
    "# Choose here whether to sample from a fitted GP or zero mean samples:"
   ]
  },
  {
   "cell_type": "code",
   "execution_count": 2,
   "metadata": {
    "collapsed": false
   },
   "outputs": [],
   "source": [
    "# Switch for wether to use the data from toy_rbf to plot. \n",
    "# if true, we wont use the data, if false we will\n",
    "zero_mean = False\n",
    "\n",
    "# switch for 1d or 2d\n",
    "one_d = True"
   ]
  },
  {
   "cell_type": "code",
   "execution_count": 3,
   "metadata": {
    "collapsed": false
   },
   "outputs": [],
   "source": [
    "# First set up the figure, the axis, and the plot element we want to animate\n",
    "plt.close('all')\n",
    "if one_d:\n",
    "    fig = plt.figure(figsize=(8,4))\n",
    "    vl_list = [(1,10), (1,1), (1,.2)]\n",
    "    colors = [\"#BBCDD9\",\"#2A3F54\",\"#5A9ED2\",\"#687C8E\"] # tahnks to http://tools.medialab.sciences-po.fr/iwanthue/index.php\n",
    "\n",
    "    m = GPy.examples.regression.toy_rbf_1d_50(plot=False)\n",
    "    #m.plot(ax=ax)\n",
    "else:\n",
    "    import matplotlib.pyplot as plt\n",
    "    from mpl_toolkits.mplot3d import Axes3D\n",
    "    vl_list = [(1,1)]\n",
    "    fig = plt.figure()\n",
    "    ax = fig.add_subplot(111, projection='3d')"
   ]
  },
  {
   "cell_type": "code",
   "execution_count": 4,
   "metadata": {
    "collapsed": false
   },
   "outputs": [],
   "source": [
    "if one_d:\n",
    "    ks = [GPy.kern.RBF(1, variance=v, lengthscale=l) for v,l in vl_list]\n",
    "    N = 100\n",
    "    mi, ma = m.X.min(), m.X.max()\n",
    "    r = m.X.max() - m.X.min()\n",
    "    x = np.linspace(mi-r, ma+r, N)[:,None]\n",
    "\n",
    "    ax = plt.axes(xlim=(mi-r, ma+r), ylim=(-2, 2))\n",
    "    ax.set_frame_on(False)\n",
    "    ax.xaxis.set_visible(False)\n",
    "    ax.yaxis.set_visible(False)\n",
    "\n",
    "    if zero_mean:\n",
    "        # Plot just samples:\n",
    "        l_nothing = GPy.plotting.matplot_dep.base_plots.gpplot(x, np.zeros_like(x), np.zeros_like(x)+2, np.zeros_like(x)-2, ax=ax)[0][0]\n",
    "        ax.set_ylim(-3,3)\n",
    "    else:\n",
    "        # Plot with mean:\n",
    "        l_nothing = m.plot(ax=ax, plot_limits=(mi-r,ma+r))['gpplot'][0][0]\n",
    "\n",
    "    lines = [ax.plot(np.linspace(-1,1,100), \n",
    "                     np.sin(np.linspace(-1,1,100)-np.random.randn()), lw=.8, \n",
    "                     color=c, \n",
    "                     label=r'$\\ell={:.2G}$'.format(l))[0] for (v,l),c in itertools.izip(vl_list, colors)]\n",
    "\n",
    "    #legend = ax.legend(\n",
    "    if zero_mean:\n",
    "        legend = ax.legend(bbox_to_anchor=(0., 1.0, 1., .1), loc=3,\n",
    "               ncol=4, mode=\"expand\", borderaxespad=0.)\n",
    "else:\n",
    "    ks = [GPy.kern.Matern32(2, lengthscale=2)]\n",
    "    X, Y = np.mgrid[-5:5:40j, -5:5:40j]\n",
    "    N = X.size\n",
    "    x = np.c_[X.flat, Y.flat]\n",
    "    Ks = [ks[0].K(x)]\n",
    "    Z = np.random.multivariate_normal(np.zeros(x.shape[0]), Ks[0])\n",
    "    ax.plot_surface(X, Y, Z.reshape(X.shape[0], Y.shape[1]), cmap=cm.jet, rstride=1, cstride=1)\n",
    "    \n",
    "fig.tight_layout(rect=(0, 0, 1, .91))\n"
   ]
  },
  {
   "cell_type": "code",
   "execution_count": 5,
   "metadata": {
    "collapsed": false
   },
   "outputs": [],
   "source": [
    "if one_d:\n",
    "    if zero_mean:\n",
    "        mus = [np.zeros_like(x) for _ in vl_list]\n",
    "        Ks = [k.K(x) for k in ks]\n",
    "    else:\n",
    "        mu, K = m._raw_predict(x, full_cov=True)\n",
    "        mus = [mu for _ in vl_list]\n",
    "        Ks = [K for _ in vl_list]"
   ]
  },
  {
   "cell_type": "code",
   "execution_count": 6,
   "metadata": {
    "collapsed": false
   },
   "outputs": [],
   "source": [
    "#plt.matshow(Ks[0])\n",
    "\n",
    "#ax.plot(x,np.zeros(N),color='k',lw=2,ls='--')\n",
    "#ax.fill_between(x[:,0],np.ones(N)*2,-np.ones(N)*2,color='k',alpha=.2,linestyle='--')\n",
    "\n",
    "Rs = [GPy.util.linalg.pdinv(K+np.eye(N)*1e-8)[1] for K in Ks]"
   ]
  },
  {
   "cell_type": "code",
   "execution_count": 7,
   "metadata": {
    "collapsed": false
   },
   "outputs": [],
   "source": [
    "def exp_map_sphere(mu, E):\n",
    "    theta = np.sqrt((E**2).sum(0))[None]\n",
    "    M = mu * np.sin(theta)\n",
    "    M = M + (E * (np.cos(theta))/theta)\n",
    "    M[:, np.abs(theta[:,0])<=1e-7] = mu\n",
    "    return M\n",
    "\n",
    "def exp_map(mu, E):\n",
    "    theta = np.sqrt((E**2).sum(0))[None]\n",
    "    M = mu * np.sin(theta)\n",
    "    M = M + (E * (np.cos(theta))/theta)\n",
    "    M[:, np.abs(theta[:,0])<=1e-7] = mu\n",
    "    return M\n",
    "\n",
    "def gp_animate(d,n):\n",
    "    u = np.random.normal(0,1,size=(N,1))\n",
    "    r = np.sqrt((u**2).sum())\n",
    "    u /= r\n",
    "    t = np.random.normal(0,1,size=(N,1))\n",
    "    t = t - (t.T.dot(u)).dot(u.T).T\n",
    "    t /= np.sqrt((t**2).sum())\n",
    "    start = np.random.uniform(0,2*np.pi)\n",
    "    T = np.linspace(start, start+2*np.pi, n)[None] * t\n",
    "    return r*exp_map(u, np.linspace(0.001, 2*np.pi, n)[None] * t)\n",
    "\n",
    "frames = 200\n",
    "draws = [gp_animate(N,frames) for _ in vl_list]"
   ]
  },
  {
   "cell_type": "code",
   "execution_count": 8,
   "metadata": {
    "collapsed": false
   },
   "outputs": [],
   "source": [
    "# initialization function: plot the background of each frame\n",
    "if one_d:\n",
    "    def init():\n",
    "        for line in lines:\n",
    "            line.set_data([], [])\n",
    "        return lines\n",
    "else:\n",
    "    def init():\n",
    "        del ax.collections[:]\n",
    "        return [ax.plot_surface(X, Y, Z.reshape(X.shape[0], Y.shape[1]), cmap=cm.jet, rstride=1, cstride=1)]"
   ]
  },
  {
   "cell_type": "code",
   "execution_count": 9,
   "metadata": {
    "collapsed": false
   },
   "outputs": [],
   "source": [
    "# animation function.  This is called sequentially\n",
    "s = [R.dot(draw) for R,draw in zip(Rs,draws)]\n",
    "if one_d:\n",
    "    def animate(i):\n",
    "        for sprime, mu, line in zip(s, mus, lines):\n",
    "            #print y[:,i].shape, x.shape\n",
    "            line.set_data(x[:,0], mu[:,0]+sprime[:,i])\n",
    "        return lines\n",
    "else:\n",
    "    def animate(i):\n",
    "        del ax.collections[:]\n",
    "        ax.set_zlim(-5,5)\n",
    "        return [ax.plot_surface(X, Y, s[0][:,i].reshape(X.shape[0], Y.shape[1]), cmap=cm.jet, rstride=1, cstride=1)]\n",
    "animate(100)\n",
    "plt.draw()"
   ]
  },
  {
   "cell_type": "code",
   "execution_count": 12,
   "metadata": {
    "collapsed": false
   },
   "outputs": [],
   "source": [
    "# call the animator.  blit=True means only re-draw the parts that have changed.\n",
    "anim = animation.FuncAnimation(fig, animate, init_func=init,\n",
    "                               frames=frames, interval=20, blit=True)\n",
    "#plt.show()"
   ]
  },
  {
   "cell_type": "code",
   "execution_count": 27,
   "metadata": {
    "collapsed": false
   },
   "outputs": [],
   "source": [
    "# save the animation as an mp4.  This requires ffmpeg or mencoder to be\n",
    "# installed.  The extra_args ensure that the x264 codec is used, so that\n",
    "# the video can be embedded in html5.  You may need to adjust this for\n",
    "# your system: for more information, see\n",
    "# http://matplotlib.sourceforge.net/api/animation_api.html\n",
    "for i in xrange(frames):\n",
    "    if not one_d:\n",
    "        animate(i)\n",
    "        fig.canvas.draw()\n",
    "        fig.savefig('../images/gp_animation/2D/matern_anim{:0>3}.png'.format(i))        \n",
    "    elif zero_mean:\n",
    "        animate(i)\n",
    "        fig.canvas.draw()\n",
    "        fig.savefig('../images/gp_animation/zero_mean/anim{:0>3}.pdf'.format(i))\n",
    "        #anim.save('gp_animation_zero_mean.mp4', fps=30, extra_args=['-vcodec', 'libx264'])\n",
    "    else:\n",
    "        animate(i)\n",
    "        fig.canvas.draw()\n",
    "        fig.savefig('../images/gp_animation/mean/anim{:0>3}.pdf'.format(i))\n",
    "        #anim.save('gp_animation_mean.mp4', fps=30, extra_args=['-vcodec', 'libx264'])"
   ]
  },
  {
   "cell_type": "code",
   "execution_count": 160,
   "metadata": {
    "collapsed": false
   },
   "outputs": [],
   "source": [
    "if zero_mean:\n",
    "    fig.savefig('gp_animation_zero_mean_poster.pdf')\n",
    "else:\n",
    "    fig.savefig('gp_animation_mean_poster.pdf')"
   ]
  }
 ],
 "metadata": {
  "kernelspec": {
   "display_name": "Python 2",
   "language": "python",
   "name": "python2"
  },
  "language_info": {
   "codemirror_mode": {
    "name": "ipython",
    "version": 2
   },
   "file_extension": ".py",
   "mimetype": "text/x-python",
   "name": "python",
   "nbconvert_exporter": "python",
   "pygments_lexer": "ipython2",
   "version": "2.7.6"
  }
 },
 "nbformat": 4,
 "nbformat_minor": 0
}
